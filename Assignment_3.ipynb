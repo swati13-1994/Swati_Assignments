{
 "cells": [
  {
   "cell_type": "markdown",
   "id": "647e2f95",
   "metadata": {},
   "source": [
    "## 1. Why are functions advantageous to have in your programs?\n",
    "\n",
    "- Functions enhances the readability of a program by deviding the program into small groups.\n",
    "- Functions helps us to not write the same logic again and again.\n",
    "- Many persons can work on the same program by assigning different methods to each of them.\n",
    "- It encourages us to call the same method with different input many time."
   ]
  },
  {
   "cell_type": "code",
   "execution_count": 1,
   "id": "ecf4f3c2",
   "metadata": {},
   "outputs": [
    {
     "data": {
      "text/plain": [
       "'C:\\\\Users\\\\swati singh'"
      ]
     },
     "execution_count": 1,
     "metadata": {},
     "output_type": "execute_result"
    }
   ],
   "source": [
    "pwd"
   ]
  },
  {
   "cell_type": "code",
   "execution_count": null,
   "id": "1ec31513",
   "metadata": {},
   "outputs": [],
   "source": []
  },
  {
   "cell_type": "markdown",
   "id": "588216fe",
   "metadata": {},
   "source": [
    "## 2. When does the code in a function run: when it's specified or when it's called?\n",
    "    \n",
    "    when it is callled."
   ]
  },
  {
   "cell_type": "markdown",
   "id": "79410b80",
   "metadata": {},
   "source": [
    "## 3. What statement creates a function?\n",
    "\n",
    "def fun():\n",
    "    print()"
   ]
  },
  {
   "cell_type": "markdown",
   "id": "b30c5378",
   "metadata": {},
   "source": [
    "## 4. What is the difference between a function and a function call?\n",
    "\n",
    "A function is procedure to achieve a particular result while function call is using this function to achive this task."
   ]
  },
  {
   "cell_type": "markdown",
   "id": "2160cad7",
   "metadata": {},
   "source": [
    "## 5. How many global scopes are there in a Python program? How many local scopes?\n",
    "\n",
    "Python program has exactly 2 scopes, local and global.\n",
    "Global Scope- variables you create outside of a function belong to the global scope and can be used everywhere.\n",
    "Local Scope- Variable which create inside the function are only available within the function.\n",
    "\n",
    "Eg of global scope, x = 300\n",
    "\n",
    "def myfunc():\n",
    "  print(x)"
   ]
  },
  {
   "cell_type": "markdown",
   "id": "518d1a83",
   "metadata": {},
   "source": [
    "## 6. What happens to variables in a local scope when the function call returns?\n",
    "\n",
    "When local variables distroyed(disappear) after the function returns."
   ]
  },
  {
   "cell_type": "markdown",
   "id": "2230ad03",
   "metadata": {},
   "source": [
    "## 7. What is the concept of a return value? Is it possible to have a return value in an expression?\n",
    "\n",
    "\n",
    "A return statement is used to end the execution of the function call and “returns” the result \n",
    "(value of the expression following the return keyword) to the caller."
   ]
  },
  {
   "cell_type": "markdown",
   "id": "166755f5",
   "metadata": {},
   "source": [
    "# 8. If a function does not have a return statement, what is the return value of a call to that function?\n",
    "\n",
    "If a function does not have a return statement, it returns nothing.\n"
   ]
  },
  {
   "cell_type": "markdown",
   "id": "58a7a290",
   "metadata": {},
   "source": [
    "## 9. How do you make a function variable refer to the global variable?\n",
    "\n",
    "By using global keyword to declare which variables are global."
   ]
  },
  {
   "cell_type": "markdown",
   "id": "06e1b122",
   "metadata": {},
   "source": [
    "## 10. What is the data type of None?\n",
    "\n",
    "None type"
   ]
  },
  {
   "cell_type": "markdown",
   "id": "66900316",
   "metadata": {},
   "source": [
    "## 11. What does the sentence import areallyourpetsnamederic do?\n",
    "\n",
    "imports the module 'areallyourpetsnamederic'"
   ]
  },
  {
   "cell_type": "markdown",
   "id": "1a2bae7f",
   "metadata": {},
   "source": [
    "## 12. If you had a bacon() feature in a spam module, what would you call it after importing spam?\n",
    "\n",
    "spam.bacon()"
   ]
  },
  {
   "cell_type": "markdown",
   "id": "d18ccf78",
   "metadata": {},
   "source": [
    "## 13. What can you do to save a programme from crashing if it encounters an error?\n",
    "\n",
    "error handling can be used to notify the user of why the error occurred and gracefully\n",
    "exit the process that caused the error."
   ]
  },
  {
   "cell_type": "markdown",
   "id": "58401a4e",
   "metadata": {},
   "source": [
    "## 14. What is the purpose of the try clause? What is the purpose of the except clause?\n",
    "\n",
    "We use try clasue to handle the error, if the code inside the escept clause will execute whenever it show thw same error in preceding try block."
   ]
  },
  {
   "cell_type": "code",
   "execution_count": null,
   "id": "8d2ed233",
   "metadata": {},
   "outputs": [],
   "source": []
  }
 ],
 "metadata": {
  "kernelspec": {
   "display_name": "Python 3 (ipykernel)",
   "language": "python",
   "name": "python3"
  },
  "language_info": {
   "codemirror_mode": {
    "name": "ipython",
    "version": 3
   },
   "file_extension": ".py",
   "mimetype": "text/x-python",
   "name": "python",
   "nbconvert_exporter": "python",
   "pygments_lexer": "ipython3",
   "version": "3.9.12"
  }
 },
 "nbformat": 4,
 "nbformat_minor": 5
}
