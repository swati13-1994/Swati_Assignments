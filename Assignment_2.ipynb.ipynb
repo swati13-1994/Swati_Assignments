{
 "cells": [
  {
   "cell_type": "markdown",
   "id": "7fb66cf5",
   "metadata": {},
   "source": [
    "# Assignment_2"
   ]
  },
  {
   "cell_type": "raw",
   "id": "c1b44df1",
   "metadata": {},
   "source": [
    "1.What are the two values of the Boolean data type? How do you write them?\n",
    "\n",
    "\n",
    "Boolean data type are True and False, we first letter should be in capital and remaining can be written in small letter."
   ]
  },
  {
   "cell_type": "raw",
   "id": "d79d5a01",
   "metadata": {},
   "source": [
    "2. What are the three different types of Boolean operators?\n",
    "\n",
    "The three different types of Boolean operators-\n",
    "and\n",
    "or\n",
    "not"
   ]
  },
  {
   "cell_type": "raw",
   "id": "3ce5f8ac",
   "metadata": {},
   "source": [
    "3. Make a list of each Boolean operator's truth tables (i.e. every possible combination of Boolean\n",
    "values for the operator and what it evaluate ).\n",
    "\n",
    "Boolean Operators are those that result in the Boolean values of True and False. These include and, or and not. While and &\n",
    "or require 2 operands, not is a unary operator.\n",
    "There are 2 types of operators in python that return boolean values.\n",
    "1.Comparison Operator - ==,!=,<,>,>=,<=\n",
    "2.Logical Operator - and,or,not\n"
   ]
  },
  {
   "cell_type": "raw",
   "id": "92691593",
   "metadata": {},
   "source": [
    "4. What are the values of the following expressions?\n",
    "(5 > 4) and (3 == 5)\n",
    "not (5 > 4)\n",
    "(5 > 4) or (3 == 5)\n",
    "not ((5 > 4) or (3 == 5))\n",
    "(True and True) and (True == False)\n",
    "(not False) or (not True)\n",
    "\n",
    "\n",
    "(5 > 4) and (3 == 5)                       -- False\n",
    "not (5 > 4)                                -- False\n",
    "(5 > 4) or (3 == 5)                        -- False\n",
    "not ((5 > 4) or (3 == 5))                  -- False\n",
    "(True and True) and (True == False)        -- False\n",
    "(not False) or (not True)                  -- True"
   ]
  },
  {
   "cell_type": "raw",
   "id": "01df4998",
   "metadata": {},
   "source": [
    "5. What are the six comparison operators?\n",
    "\n",
    "Comparison Operator - ==,!=,<,>,>=,<="
   ]
  },
  {
   "cell_type": "raw",
   "id": "e17307f0",
   "metadata": {},
   "source": [
    "6. How do you tell the difference between the equal to and assignment operators?Describe a\n",
    "condition and when you would use one.\n",
    "\n",
    "First of all = is a assignment operator and == is a comparison operator. = operator is used to assign value to a variable and\n",
    "== operator is used to compare two variable or constants."
   ]
  },
  {
   "cell_type": "raw",
   "id": "4be6e731",
   "metadata": {},
   "source": [
    "7. Identify the three blocks in this code:\n",
    "spam = 0\n",
    "if spam == 10:\n",
    "print('eggs')\n",
    "if spam > 5:\n",
    "print('bacon')\n",
    "else:\n",
    "print('ham')\n",
    "print('spam')\n",
    "print('spam')\n",
    "\n",
    "\n",
    "if spam == 10:\n",
    "if spam > 5:\n",
    "else:"
   ]
  },
  {
   "cell_type": "raw",
   "id": "376c3ff5",
   "metadata": {},
   "source": [
    "8. Write code that prints Hello if 1 is stored in spam, prints Howdy if 2 is stored in spam, and prints\n",
    "Greetings! if anything else is stored in spam.\n",
    "\n",
    "spam = int(input())\n",
    "if spam == 1:\n",
    "    print('Hello')\n",
    "elif spam == 2:\n",
    "    print('Howdy')\n",
    "else:\n",
    "    print('Greetings!')"
   ]
  }
 ],
 "metadata": {
  "kernelspec": {
   "display_name": "Python 3 (ipykernel)",
   "language": "python",
   "name": "python3"
  },
  "language_info": {
   "codemirror_mode": {
    "name": "ipython",
    "version": 3
   },
   "file_extension": ".py",
   "mimetype": "text/x-python",
   "name": "python",
   "nbconvert_exporter": "python",
   "pygments_lexer": "ipython3",
   "version": "3.9.12"
  }
 },
 "nbformat": 4,
 "nbformat_minor": 5
}
