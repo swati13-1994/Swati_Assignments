{
 "cells": [
  {
   "cell_type": "raw",
   "id": "7131e507",
   "metadata": {},
   "source": [
    "1. What does an empty dictionary's code look like?\n",
    "\n",
    "Ans: item = {}"
   ]
  },
  {
   "cell_type": "raw",
   "id": "b22262ff",
   "metadata": {},
   "source": [
    "2. What is the value of a dictionary value with the key 'foo' and the value 42?\n",
    "\n",
    "Ans: item = {'foo':42}"
   ]
  },
  {
   "cell_type": "raw",
   "id": "7f633026",
   "metadata": {},
   "source": [
    "3. What is the most significant distinction between a dictionary and a list?\n",
    "\n",
    "Ans: Dictionary is a set of key-value pairs.\n",
    "     List collection is a generic class and can store any data types to create a list."
   ]
  },
  {
   "cell_type": "raw",
   "id": "70f46460",
   "metadata": {},
   "source": [
    "4. What happens if you try to access spam['foo'] if spam is {'bar': 100}?\n",
    "\n",
    "Ans: it will show error"
   ]
  },
  {
   "cell_type": "raw",
   "id": "698055f5",
   "metadata": {},
   "source": [
    "5. If a dictionary is stored in spam, what is the difference between the expressions 'cat' in spam and\n",
    "'cat' in spam.keys()?\n",
    "\n",
    "Ans: Ans: There is no difference. The in operator checks whether a value exists as a key in the dictionary"
   ]
  },
  {
   "cell_type": "raw",
   "id": "18e72623",
   "metadata": {},
   "source": [
    "6. If a dictionary is stored in spam, what is the difference between the expressions 'cat' in spam and\n",
    "'cat' in spam.values()?\n",
    "\n",
    "Ans: 'cat' in spam checks whether there is a 'cat' key in the dictionary, while 'cat' in spam.values()\n",
    "    checks whether there is a value 'cat' for one of the keys in spam."
   ]
  },
  {
   "cell_type": "raw",
   "id": "a811aa88",
   "metadata": {},
   "source": [
    "7. What is a shortcut for the following code?\n",
    "\n",
    "if 'color' not in spam:\n",
    "spam['color'] = 'black'\n",
    "\n",
    "Ans: spam.setdefault('color', 'black')"
   ]
  },
  {
   "cell_type": "raw",
   "id": "f4687213",
   "metadata": {},
   "source": [
    "8. How do you \"pretty print\" dictionary values using which module and function?\n",
    "\n",
    "Ans: pprint.pprint()"
   ]
  },
  {
   "cell_type": "code",
   "execution_count": null,
   "id": "e203d8cd",
   "metadata": {},
   "outputs": [],
   "source": []
  }
 ],
 "metadata": {
  "kernelspec": {
   "display_name": "Python 3 (ipykernel)",
   "language": "python",
   "name": "python3"
  },
  "language_info": {
   "codemirror_mode": {
    "name": "ipython",
    "version": 3
   },
   "file_extension": ".py",
   "mimetype": "text/x-python",
   "name": "python",
   "nbconvert_exporter": "python",
   "pygments_lexer": "ipython3",
   "version": "3.9.12"
  }
 },
 "nbformat": 4,
 "nbformat_minor": 5
}
