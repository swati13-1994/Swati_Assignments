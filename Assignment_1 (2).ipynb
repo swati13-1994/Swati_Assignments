{
 "cells": [
  {
   "cell_type": "markdown",
   "id": "dfcd2645",
   "metadata": {},
   "source": [
    "1. In the below elements which of them are values or an expression? eg:- values can be\n",
    "integer or string and expressions will be mathematical operators.\n",
    "\n",
    "*\n",
    "'hello'\n",
    "-87.8\n",
    "-\n",
    "/\n",
    "+\n",
    "6"
   ]
  },
  {
   "cell_type": "markdown",
   "id": "9cd64c61",
   "metadata": {},
   "source": [
    "(*,-,/,+) - Expression\n",
    "\n",
    "\n",
    "('hello',-87.8,6) - values"
   ]
  },
  {
   "cell_type": "markdown",
   "id": "a1e1d6a6",
   "metadata": {},
   "source": [
    "2. What is the difference between string and variable?\n",
    "\n",
    "String - string is simply a series of caracters or a value representing text, any thing which is assign using quotes will be considered and string.\n",
    "Variable - varibale is a name which contains string or any other value.\n",
    "\n",
    "basically variable can contain any value including string but string can not contain variable."
   ]
  },
  {
   "cell_type": "markdown",
   "id": "3ad37f40",
   "metadata": {},
   "source": [
    "3. Describe three different data types.\n",
    "\n",
    "1. Numeric Type- It represent the data which has numeric value, it can be integer, float, complex numbers and we\n",
    "                 represent them as int, float and complex.\n",
    "    \n",
    "                 Integer- It contains positive or negative whole numbers (without fraction or decimal).\n",
    "        \n",
    "                 Float- It is a real number with floating point representation. It is specified by a decimal point.\n",
    "            \n",
    "                 Complex Number- Complex number is represented by complex class. It is specified as (real part) + \n",
    "                    (imaginary part)j. For example – 2+3j\n",
    "\n",
    "2. Sequence Type- sequence is the ordered collection of similar or different data types.\n",
    "                  Sequences allows to store multiple values in an organized and efficient fashion.\n",
    "    \n",
    "                  There are several sequence types in Python –\n",
    "                  String- String is a collection of one or more characters put in a single quote, double-quote or triple quote.\n",
    "                    In python there is no character data type, a character is a string of length one.It is represented by str \n",
    "                    class.\n",
    "                  Eg. String1 = 'Welcome to the World'\n",
    "                  List- are just like the arrays, declared in other languages which is a ordered collection of data.\n",
    "                    It is very flexible as the items in a list do not need to be of the same type.\n",
    "                   Eg. List = ['ineuron','datascience',12,23.4]\n",
    "                Tuple- Tuple is just like list ordered collection of python objects, but the difference is list is mutable but\n",
    "                       tuple is not mutable means tuple can not be modified after created.\n",
    "                        Eg. List = ('ineuron','datascience',12,23.4)\n",
    "3.Set- set is unordered collection of data type that is iterable, mutable and has no duplicate elements. The order of elements\n",
    "       in set is undefined though it may consist of various elements.\n",
    "    Eg. {'F', 'o', 'G', 's', 'r', 'k', 'e'}\n"
   ]
  },
  {
   "cell_type": "markdown",
   "id": "eafe42db",
   "metadata": {},
   "source": [
    "4. What is an expression made up of? What do all expressions do?\n",
    "\n",
    "Expression: An expression is a combination of operators, constants and variables. An expression may consist of one or\n",
    "    more operands,and zero or more operators to produce a value,An expression is a combination of operators and operands \n",
    "    that is interpreted to produce some other value.\n",
    "    \n",
    "    Arithmetic Expression- An arithmetic expression is a combination of numeric values, operators, and sometimes parenthesis. The \n",
    "                         result of this type of expression is also a numeric value.\n",
    "        add = x + y\n",
    "        sub = x - y\n",
    "        pro = x * y\n",
    "        div = x / y\n",
    "        \n",
    "    Relational Expression- arithmetic expressions are written on both sides of relational operator (> , < , >= , <=).\n",
    "                          p = (a + b) >= (c - d)\n",
    "\n",
    "    Logical Expression- These are kinds of expressions that result in either True or False. \n",
    "                       (10 == 9) is a condition if 10 is equal to 9 and the result will be false\n",
    "                         R = P and Q\n",
    "                        S = P or Q\n",
    "                        T = not P"
   ]
  },
  {
   "cell_type": "markdown",
   "id": "ac35bb26",
   "metadata": {},
   "source": [
    "5. This assignment statements, like spam = 10. What is the difference between an\n",
    "expression and a statement?\n",
    "  \n",
    "An expression evaluates to a value. A statement does something.\n",
    "\n",
    " x + 2         # an expression\n",
    " x = 1         # a statement \n",
    " y = x + 1     # a statement\n",
    " print y       # a statement\n",
    "spam = 10      # a statement"
   ]
  },
  {
   "cell_type": "markdown",
   "id": "5e796fee",
   "metadata": {},
   "source": [
    "6. After running the following code, what does the variable bacon contain?\n",
    "bacon = 22\n",
    "bacon + 1\n",
    "\n",
    "After running this following code bacon contains 23."
   ]
  },
  {
   "cell_type": "markdown",
   "id": "030f6a1d",
   "metadata": {},
   "source": [
    "7. What should the values of the following two terms be?\n",
    "'spam' + 'spamspam'\n",
    "'spam' * 3\n",
    "\n",
    "'spam' + 'spamspam' = spamspamspam\n",
    "spam * 3= spamspamspam"
   ]
  },
  {
   "cell_type": "markdown",
   "id": "41ea07aa",
   "metadata": {},
   "source": [
    "8. Why is eggs a valid variable name while 100 is invalid?\n",
    "\n",
    "variable name can not start with numbers."
   ]
  },
  {
   "cell_type": "markdown",
   "id": "9d211da9",
   "metadata": {},
   "source": [
    "9. What three functions can be used to get the integer, floating-point number, or string\n",
    "version of a value?\n",
    "\n",
    "int(),float(),str()"
   ]
  },
  {
   "cell_type": "markdown",
   "id": "0fea09f3",
   "metadata": {},
   "source": [
    "10. Why does this expression cause an error? How can you fix it?\n",
    "'I have eaten' + 99 + 'burritos.'\n",
    "\n",
    "this will show error because 99 is an integer and we can concatinate int with string so we need to convert int to string\n",
    "\n",
    "'I have eaten' + str(99) + 'burritos.'"
   ]
  },
  {
   "cell_type": "markdown",
   "id": "84ef3f63",
   "metadata": {},
   "source": [
    "'I have eaten' + str(99) + 'burritos.'"
   ]
  },
  {
   "cell_type": "code",
   "execution_count": null,
   "id": "7d32e6b0",
   "metadata": {},
   "outputs": [],
   "source": []
  }
 ],
 "metadata": {
  "kernelspec": {
   "display_name": "Python 3 (ipykernel)",
   "language": "python",
   "name": "python3"
  },
  "language_info": {
   "codemirror_mode": {
    "name": "ipython",
    "version": 3
   },
   "file_extension": ".py",
   "mimetype": "text/x-python",
   "name": "python",
   "nbconvert_exporter": "python",
   "pygments_lexer": "ipython3",
   "version": "3.9.12"
  }
 },
 "nbformat": 4,
 "nbformat_minor": 5
}
